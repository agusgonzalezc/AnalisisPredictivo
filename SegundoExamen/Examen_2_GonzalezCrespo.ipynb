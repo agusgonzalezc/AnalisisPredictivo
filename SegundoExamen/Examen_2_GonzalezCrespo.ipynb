{
  "nbformat": 4,
  "nbformat_minor": 0,
  "metadata": {
    "colab": {
      "provenance": [],
      "collapsed_sections": [
        "xFdSDiYObsfh",
        "HUwi9VJGGgDf",
        "yE7c54ZrZOlf",
        "6QhdzSg_Z7sx",
        "AJ9lpOEiceVW",
        "ji38t2HuCbPn",
        "8lFEG33DaR4p",
        "4nLzmxLmcIFw",
        "tH3KOzsGc7NB",
        "cHnukk85ef9x",
        "QxgT5YCxgYzV",
        "zw-zM3aBS5R8",
        "agORcr3LTC_6",
        "srkKXtufbVmU",
        "3gQPbAyndmYa",
        "44hMqBIMeU25",
        "YY7ett_rSwcY",
        "4YI2kEE8bhXr",
        "RLWMBLtgbmVd",
        "il_N-0qscucr",
        "nFKNB-zPdWdR",
        "Kf1lFemTd0pi",
        "5CdEfZ8_KMqv",
        "ydzzwQpWa8zU",
        "04o61_JsNVZZ",
        "Noq8y8l2_p2w",
        "zyq7jzrpclfH",
        "lR9JN6BCEopB",
        "MaSm21iTYf0-",
        "pDIBaRB7EOg0",
        "bcT1D7YRat9_",
        "rwkbHzhmDfRS",
        "FW_5dfCUbxdW",
        "4PEhAUlEg5cJ",
        "4Y2coCiZf4Z1",
        "8fyBVKNRf4Zn",
        "7dXZDvBif4Zu"
      ]
    },
    "kernelspec": {
      "name": "python3",
      "display_name": "Python 3"
    },
    "language_info": {
      "name": "python"
    }
  },
  "cells": [
    {
      "cell_type": "markdown",
      "source": [
        "# **Installs**"
      ],
      "metadata": {
        "id": "xFdSDiYObsfh"
      }
    },
    {
      "cell_type": "code",
      "source": [
        "! pip install skimpy\n",
        "! pip install lightgbm"
      ],
      "metadata": {
        "id": "y0e8xQnibB3I"
      },
      "execution_count": null,
      "outputs": []
    },
    {
      "cell_type": "markdown",
      "source": [
        "#**Imports**"
      ],
      "metadata": {
        "id": "HUwi9VJGGgDf"
      }
    },
    {
      "cell_type": "code",
      "execution_count": null,
      "metadata": {
        "id": "GwJYg2_ezSQc"
      },
      "outputs": [],
      "source": [
        "import pandas as pd\n",
        "import numpy as np\n",
        "import seaborn as sns\n",
        "import matplotlib.pyplot as plt\n",
        "import json \n",
        "from google.colab import drive\n",
        "from sklearn.linear_model import LinearRegression\n",
        "from skimpy import skim\n",
        "from sklearn import set_config\n",
        "from sklearn.model_selection import train_test_split\n",
        "from sklearn.compose import ColumnTransformer\n",
        "from sklearn.preprocessing import OneHotEncoder, MinMaxScaler\n",
        "from sklearn.metrics import accuracy_score, confusion_matrix\n",
        "from sklearn.linear_model import LogisticRegression\n",
        "import lightgbm as lgb\n",
        "from sklearn.tree import DecisionTreeRegressor\n",
        "from sklearn.ensemble import RandomForestRegressor\n",
        "from xgboost import XGBRegressor\n",
        "from numpy import mean\n",
        "from numpy import std\n",
        "from numpy import absolute\n",
        "from sklearn.model_selection import cross_val_score\n",
        "from sklearn.model_selection import RepeatedKFold\n",
        "from sklearn.linear_model import Ridge\n",
        "from sklearn.model_selection import RandomizedSearchCV"
      ]
    },
    {
      "cell_type": "markdown",
      "source": [
        "# **Carga de datos**"
      ],
      "metadata": {
        "id": "yE7c54ZrZOlf"
      }
    },
    {
      "cell_type": "code",
      "source": [
        "!mkdir ~/.kaggle\n",
        "!touch ~/.kaggle/kaggle.json\n",
        "\n",
        "drive.mount('/content/drive', force_remount=True)\n",
        "with open(\"/content/drive/MyDrive/ANALISIS PREDICTIVO/TP 2/kaggle.json\", 'r') as f:\n",
        "    api_token= json.load(f)\n",
        "\n",
        "with open('/root/.kaggle/kaggle.json', 'w') as file:\n",
        "    json.dump(api_token, file)\n",
        "\n",
        "!chmod 600 ~/.kaggle/kaggle.json\n",
        "\n",
        "!kaggle competitions download -c ap-tp2-2q2022\n",
        "\n",
        "\n",
        "import zipfile\n",
        "import os\n",
        "\n",
        "os.listdir()\n",
        "\n",
        "for file in os.listdir():\n",
        "    if file.endswith('.zip'):\n",
        "      zip_ref = zipfile.ZipFile(file, 'r')\n",
        "      zip_ref.extractall()\n",
        "      zip_ref.close()"
      ],
      "metadata": {
        "id": "LTVJ6y-FzZ8b"
      },
      "execution_count": null,
      "outputs": []
    },
    {
      "cell_type": "code",
      "source": [
        "db=pd.read_csv(\"origen.csv\", sep=\",\")"
      ],
      "metadata": {
        "id": "REmni-9B3fpc"
      },
      "execution_count": null,
      "outputs": []
    },
    {
      "cell_type": "markdown",
      "source": [
        "# **Vista de los datos**"
      ],
      "metadata": {
        "id": "6QhdzSg_Z7sx"
      }
    },
    {
      "cell_type": "code",
      "source": [
        "db.columns"
      ],
      "metadata": {
        "id": "ck4bGSmz3i-3"
      },
      "execution_count": null,
      "outputs": []
    },
    {
      "cell_type": "code",
      "source": [
        "db.info()"
      ],
      "metadata": {
        "id": "qwSD7bN9rVLX"
      },
      "execution_count": null,
      "outputs": []
    },
    {
      "cell_type": "code",
      "source": [
        "pd.options.display.max_columns = None"
      ],
      "metadata": {
        "id": "iduzAH6mbX-G"
      },
      "execution_count": null,
      "outputs": []
    },
    {
      "cell_type": "code",
      "source": [
        "db.head(5)"
      ],
      "metadata": {
        "id": "zpJew0f-app6"
      },
      "execution_count": null,
      "outputs": []
    },
    {
      "cell_type": "code",
      "source": [
        "skim(db)"
      ],
      "metadata": {
        "id": "C1YZGDuHf2cu"
      },
      "execution_count": null,
      "outputs": []
    },
    {
      "cell_type": "markdown",
      "source": [
        "# **Distribucion de variable Target**"
      ],
      "metadata": {
        "id": "AJ9lpOEiceVW"
      }
    },
    {
      "cell_type": "code",
      "source": [
        "db['averageRating'].mean()"
      ],
      "metadata": {
        "id": "Cq8wV4CRPIsF"
      },
      "execution_count": null,
      "outputs": []
    },
    {
      "cell_type": "code",
      "source": [
        "db['averageRating'].median()"
      ],
      "metadata": {
        "id": "O0e8NdeF_beT"
      },
      "execution_count": null,
      "outputs": []
    },
    {
      "cell_type": "code",
      "source": [
        "sns.displot(db, x=\"averageRating\")"
      ],
      "metadata": {
        "id": "UdTAHKzHcd2r"
      },
      "execution_count": null,
      "outputs": []
    },
    {
      "cell_type": "markdown",
      "source": [
        "# **Correlaciones**"
      ],
      "metadata": {
        "id": "K4D211lYZnzz"
      }
    },
    {
      "cell_type": "code",
      "source": [
        "fig,ax=plt.subplots(figsize=(15,15))\n",
        "sns.heatmap(db.corr(),annot=True)"
      ],
      "metadata": {
        "id": "y_Vr7ehPZnz0"
      },
      "execution_count": null,
      "outputs": []
    },
    {
      "cell_type": "markdown",
      "source": [
        "# **Variables numericas**"
      ],
      "metadata": {
        "id": "ji38t2HuCbPn"
      }
    },
    {
      "cell_type": "code",
      "source": [
        "db.describe().T"
      ],
      "metadata": {
        "id": "gnfboMckAlxj"
      },
      "execution_count": null,
      "outputs": []
    },
    {
      "cell_type": "markdown",
      "source": [
        "## Id,Budget y Revenue"
      ],
      "metadata": {
        "id": "8lFEG33DaR4p"
      }
    },
    {
      "cell_type": "code",
      "source": [
        "db=db.drop(['Id','revenue','budget'],axis=1)"
      ],
      "metadata": {
        "id": "BVy4k9YmaNCF"
      },
      "execution_count": null,
      "outputs": []
    },
    {
      "cell_type": "code",
      "source": [
        "db['popularity']=db['popularity'].fillna(0)"
      ],
      "metadata": {
        "id": "VMgaU6akowe-"
      },
      "execution_count": null,
      "outputs": []
    },
    {
      "cell_type": "code",
      "source": [
        "db['popularity'].value_counts()"
      ],
      "metadata": {
        "id": "m2Tupt-fo3dE"
      },
      "execution_count": null,
      "outputs": []
    },
    {
      "cell_type": "code",
      "source": [
        "sns.displot(db['popularity'])"
      ],
      "metadata": {
        "id": "6xwR2EP8on8R"
      },
      "execution_count": null,
      "outputs": []
    },
    {
      "cell_type": "markdown",
      "source": [
        "## isAdult"
      ],
      "metadata": {
        "id": "4nLzmxLmcIFw"
      }
    },
    {
      "cell_type": "code",
      "source": [
        "db['isAdult'].value_counts()"
      ],
      "metadata": {
        "id": "dvMQ97weDvhf"
      },
      "execution_count": null,
      "outputs": []
    },
    {
      "cell_type": "markdown",
      "source": [
        "2020 no deberia formar parte"
      ],
      "metadata": {
        "id": "J5S1jdjWE6Co"
      }
    },
    {
      "cell_type": "code",
      "source": [
        "db.loc[db['isAdult'] == 2020]\n",
        "db = db[db.isAdult != 2020]"
      ],
      "metadata": {
        "id": "n8VXXLl5E_nX"
      },
      "execution_count": null,
      "outputs": []
    },
    {
      "cell_type": "code",
      "source": [
        "db['isAdult']=db['isAdult'].astype(int)"
      ],
      "metadata": {
        "id": "ywEa0BghesMm"
      },
      "execution_count": null,
      "outputs": []
    },
    {
      "cell_type": "markdown",
      "source": [
        "## EndYear"
      ],
      "metadata": {
        "id": "tH3KOzsGc7NB"
      }
    },
    {
      "cell_type": "code",
      "source": [
        "db['endYear'].describe()"
      ],
      "metadata": {
        "id": "PYwgaHC2hR4F"
      },
      "execution_count": null,
      "outputs": []
    },
    {
      "cell_type": "code",
      "source": [
        "sns.displot(db,x='endYear')"
      ],
      "metadata": {
        "id": "nscYdY35u1_a"
      },
      "execution_count": null,
      "outputs": []
    },
    {
      "cell_type": "markdown",
      "source": [
        "##RuntimeMinutes vs Runtime"
      ],
      "metadata": {
        "id": "Ez3AaxYHdJst"
      }
    },
    {
      "cell_type": "code",
      "source": [
        "db.loc[:,['runtime', 'runtimeMinutes']].head(10)\n",
        "miss_runtime=db['runtime'].isnull().sum()\n",
        "miss_runtime_min=db['runtimeMinutes'].isnull().sum()"
      ],
      "metadata": {
        "id": "wdCBvIIzfoC4"
      },
      "execution_count": null,
      "outputs": []
    },
    {
      "cell_type": "code",
      "source": [
        "runtime_notmiss=db.loc[db['runtime'].isnull()==False]\n",
        "runtime_notmiss.loc[:,['runtime', 'runtimeMinutes']].head(10)"
      ],
      "metadata": {
        "id": "vw_qTDRegWKb"
      },
      "execution_count": null,
      "outputs": []
    },
    {
      "cell_type": "code",
      "source": [
        "print(\"Porcentaje de Missings runtime:\",(db['runtime'].isnull().sum()/db.shape[0])*100)"
      ],
      "metadata": {
        "id": "gXeGpjs5BOAD"
      },
      "execution_count": null,
      "outputs": []
    },
    {
      "cell_type": "code",
      "source": [
        "print(\"Porcentaje de Missings runtimeMinutes:\",(db['runtimeMinutes'].isnull().sum()/db.shape[0])*100)"
      ],
      "metadata": {
        "id": "ILxhneOHBwsC"
      },
      "execution_count": null,
      "outputs": []
    },
    {
      "cell_type": "markdown",
      "source": [
        "**runtimeMinutes** es mas completa que **runtime**"
      ],
      "metadata": {
        "id": "pjS-183UgNpj"
      }
    },
    {
      "cell_type": "code",
      "source": [
        "db=db.drop(['runtime'],axis=1)"
      ],
      "metadata": {
        "id": "WjvjclLZgj50"
      },
      "execution_count": null,
      "outputs": []
    },
    {
      "cell_type": "markdown",
      "source": [
        "## SeasonNumber"
      ],
      "metadata": {
        "id": "S0kNLyl9eELf"
      }
    },
    {
      "cell_type": "code",
      "source": [
        "db['seasonNumber'] = db['seasonNumber'].astype(int)"
      ],
      "metadata": {
        "id": "GDvnBZ-5eHdF"
      },
      "execution_count": null,
      "outputs": []
    },
    {
      "cell_type": "markdown",
      "source": [
        "## EpisodeNumber"
      ],
      "metadata": {
        "id": "cHnukk85ef9x"
      }
    },
    {
      "cell_type": "code",
      "source": [
        "db['episodeNumber'] = db['episodeNumber'].astype(int)"
      ],
      "metadata": {
        "id": "sYoz27b8ehsZ"
      },
      "execution_count": null,
      "outputs": []
    },
    {
      "cell_type": "markdown",
      "source": [
        "## Ordering"
      ],
      "metadata": {
        "id": "QxgT5YCxgYzV"
      }
    },
    {
      "cell_type": "code",
      "source": [
        "db.loc[db['tagline']== \"There won't be a dry seat in the house!\" ]"
      ],
      "metadata": {
        "id": "J8tm2ZdVgapu"
      },
      "execution_count": null,
      "outputs": []
    },
    {
      "cell_type": "code",
      "source": [
        "db=db.drop(['ordering'],axis=1)"
      ],
      "metadata": {
        "id": "q5fkaRa-ggHN"
      },
      "execution_count": null,
      "outputs": []
    },
    {
      "cell_type": "markdown",
      "source": [
        "## isOriginalTitle"
      ],
      "metadata": {
        "id": "zw-zM3aBS5R8"
      }
    },
    {
      "cell_type": "code",
      "source": [
        "db['isOriginalTitle']=db['isOriginalTitle'].astype(int)"
      ],
      "metadata": {
        "id": "m75YTAoFS8XN"
      },
      "execution_count": null,
      "outputs": []
    },
    {
      "cell_type": "markdown",
      "source": [
        "# **Variables Categoricas**"
      ],
      "metadata": {
        "id": "agORcr3LTC_6"
      }
    },
    {
      "cell_type": "code",
      "source": [
        "db.describe(include='object').T"
      ],
      "metadata": {
        "id": "CORwhc3VTGXh"
      },
      "execution_count": null,
      "outputs": []
    },
    {
      "cell_type": "markdown",
      "source": [
        "## Attributes"
      ],
      "metadata": {
        "id": "K0nhQ3gkTNPC"
      }
    },
    {
      "cell_type": "code",
      "source": [
        "db['attributes'].value_counts()"
      ],
      "metadata": {
        "id": "hSlA7_rvdUCT"
      },
      "execution_count": null,
      "outputs": []
    },
    {
      "cell_type": "code",
      "source": [
        "db.loc[db['tagline']== \"There won't be a dry seat in the house!\"]"
      ],
      "metadata": {
        "id": "mER_pwyYdkTt"
      },
      "execution_count": null,
      "outputs": []
    },
    {
      "cell_type": "markdown",
      "source": [
        "Para la misma pelicula, tiene distintos **attributes** por lo tanto se tiene que sacar."
      ],
      "metadata": {
        "id": "JQi49_tueXKr"
      }
    },
    {
      "cell_type": "code",
      "source": [
        "db=db.drop(['attributes'],axis=1)"
      ],
      "metadata": {
        "id": "S5VCRY7Yj_j8"
      },
      "execution_count": null,
      "outputs": []
    },
    {
      "cell_type": "markdown",
      "source": [
        "## Genres"
      ],
      "metadata": {
        "id": "9FsQNxYKTZ_k"
      }
    },
    {
      "cell_type": "code",
      "source": [
        "genres_y_t=db.loc[db['genres_y'].isnull()==False]\n",
        "genres_y_t.loc[:,['genres_x', 'genres_y']].head(10)"
      ],
      "metadata": {
        "id": "RZfbdM2tKveO"
      },
      "execution_count": null,
      "outputs": []
    },
    {
      "cell_type": "code",
      "source": [
        "print(\"Porcentaje de Missings genres_x:\",(db['genres_x'].isnull().sum()/db.shape[0])*100)"
      ],
      "metadata": {
        "id": "HnfdLUwGD7Sk"
      },
      "execution_count": null,
      "outputs": []
    },
    {
      "cell_type": "code",
      "source": [
        "print(\"Porcentaje de Missings genres_y:\",(db['genres_y'].isnull().sum()/db.shape[0])*100)"
      ],
      "metadata": {
        "id": "b_dmu_RKEAB8"
      },
      "execution_count": null,
      "outputs": []
    },
    {
      "cell_type": "markdown",
      "source": [
        "No tiene sentido tener ambas porque contienen la misma informacion. Genres_x tiene menos missing"
      ],
      "metadata": {
        "id": "mZkStTygLhCq"
      }
    },
    {
      "cell_type": "code",
      "source": [
        "db=db.drop(['genres_y'],axis=1)"
      ],
      "metadata": {
        "id": "JMtRMHykkFhh"
      },
      "execution_count": null,
      "outputs": []
    },
    {
      "cell_type": "markdown",
      "source": [
        "## Genres_x"
      ],
      "metadata": {
        "id": "uHA-6vgATh_F"
      }
    },
    {
      "cell_type": "code",
      "source": [
        "lista=new = db[\"genres_x\"].str.split(\",\", expand = True)\n",
        "list_0=pd.DataFrame(lista[0].value_counts().rename_axis('unique_values').reset_index(name='counts'))\n",
        "list_1=pd.DataFrame(lista[1].value_counts().rename_axis('unique_values').reset_index(name='counts'))\n",
        "list_2=pd.DataFrame(lista[2].value_counts().rename_axis('unique_values').reset_index(name='counts'))\n",
        "res = pd.concat([list_0, list_1,list_2]).groupby(['unique_values']).sum().reset_index()"
      ],
      "metadata": {
        "id": "fn9h5WXkcHk4"
      },
      "execution_count": null,
      "outputs": []
    },
    {
      "cell_type": "code",
      "source": [
        "top_5_generos = res.sort_values('counts',ascending=False)['unique_values'].head(5)\n",
        "top_5_generos"
      ],
      "metadata": {
        "id": "UjK51n7nnC_Z"
      },
      "execution_count": null,
      "outputs": []
    },
    {
      "cell_type": "code",
      "source": [
        "df=[]\n",
        "def func(a, b):\n",
        "    return not set(a).isdisjoint(b)\n",
        "for i in db['genres_x']:\n",
        "  x = i.split(\",\")\n",
        "  respuesta=func(x,top_5_generos)\n",
        "  df.append(respuesta)\n",
        "db.insert(8,'genero',df)"
      ],
      "metadata": {
        "id": "U0qfBBjyxetW"
      },
      "execution_count": null,
      "outputs": []
    },
    {
      "cell_type": "code",
      "source": [
        "db['genero'] = db['genero'].astype(int)"
      ],
      "metadata": {
        "id": "udZ6fzRwu_9M"
      },
      "execution_count": null,
      "outputs": []
    },
    {
      "cell_type": "markdown",
      "source": [
        "## Directors"
      ],
      "metadata": {
        "id": "ScbBAgYwTo8W"
      }
    },
    {
      "cell_type": "code",
      "source": [
        "db['directors'].head(10)"
      ],
      "metadata": {
        "id": "UFLB1dKXvMOe"
      },
      "execution_count": null,
      "outputs": []
    },
    {
      "cell_type": "code",
      "source": [
        "lista=new = db[\"directors\"].str.split(\",\",n=3, expand = True)\n",
        "list_0=pd.DataFrame(lista[0].value_counts().rename_axis('unique_values').reset_index(name='counts'))\n",
        "list_1=pd.DataFrame(lista[1].value_counts().rename_axis('unique_values').reset_index(name='counts'))\n",
        "list_2=pd.DataFrame(lista[2].value_counts().rename_axis('unique_values').reset_index(name='counts'))\n",
        "res = pd.concat([list_0, list_1,list_2]).groupby(['unique_values']).sum().reset_index()"
      ],
      "metadata": {
        "id": "5Hdtmxu9vI3G"
      },
      "execution_count": null,
      "outputs": []
    },
    {
      "cell_type": "code",
      "source": [
        "top20_directores = res.sort_values('counts',ascending=False)['unique_values'].head(21)\n",
        "top20_directores = top20_directores[top20_directores!= '0']\n",
        "top20_directores = top20_directores[top20_directores!= 'missing']"
      ],
      "metadata": {
        "id": "3hH83LoFzlJZ"
      },
      "execution_count": null,
      "outputs": []
    },
    {
      "cell_type": "code",
      "source": [
        "df=[]\n",
        "def func(a, b):\n",
        "    return not set(a).isdisjoint(b)\n",
        "for i in db['directors']:\n",
        "  x = i.split(\",\")\n",
        "  respuesta=func(x,top20_directores)\n",
        "  df.append(respuesta)\n",
        "db.insert(10,'directores',df)"
      ],
      "metadata": {
        "id": "CdBHp7gW2E6w"
      },
      "execution_count": null,
      "outputs": []
    },
    {
      "cell_type": "code",
      "source": [
        "db[\"directores\"] = db[\"directores\"].astype(int)"
      ],
      "metadata": {
        "id": "jptZi5k42I9C"
      },
      "execution_count": null,
      "outputs": []
    },
    {
      "cell_type": "markdown",
      "source": [
        "## Writers"
      ],
      "metadata": {
        "id": "edh59V8zTsF1"
      }
    },
    {
      "cell_type": "code",
      "source": [
        "db['writers'].head(10)"
      ],
      "metadata": {
        "id": "9KBSUHzi2xUI"
      },
      "execution_count": null,
      "outputs": []
    },
    {
      "cell_type": "code",
      "source": [
        "lista=new = db[\"writers\"].str.split(\",\",n=3, expand = True)\n",
        "list_0=pd.DataFrame(lista[0].value_counts().rename_axis('unique_values').reset_index(name='counts'))\n",
        "list_1=pd.DataFrame(lista[1].value_counts().rename_axis('unique_values').reset_index(name='counts'))\n",
        "list_2=pd.DataFrame(lista[2].value_counts().rename_axis('unique_values').reset_index(name='counts'))\n",
        "res = pd.concat([list_0, list_1,list_2]).groupby(['unique_values']).sum().reset_index()"
      ],
      "metadata": {
        "id": "MwvobPS72uYi"
      },
      "execution_count": null,
      "outputs": []
    },
    {
      "cell_type": "code",
      "source": [
        "top20_escritores = res.sort_values('counts',ascending=False)['unique_values'].head(20)\n",
        "top20_escritores = top20_escritores[top20_escritores!= '0']\n",
        "top20_escritores = top20_escritores[top20_escritores!= 'missing']"
      ],
      "metadata": {
        "id": "CCwsNKLv20vi"
      },
      "execution_count": null,
      "outputs": []
    },
    {
      "cell_type": "code",
      "source": [
        "df=[]\n",
        "def func(a, b):\n",
        "    return not set(a).isdisjoint(b)\n",
        "for i in db['writers']:\n",
        "  x = i.split(\",\")\n",
        "  respuesta=func(x,top20_escritores)\n",
        "  df.append(respuesta)\n",
        "db.insert(11,'escritores',df)"
      ],
      "metadata": {
        "id": "uXlJcPos230-"
      },
      "execution_count": null,
      "outputs": []
    },
    {
      "cell_type": "code",
      "source": [
        "db[\"escritores\"] = db[\"escritores\"].astype(int)"
      ],
      "metadata": {
        "id": "QjOiIGpz25HI"
      },
      "execution_count": null,
      "outputs": []
    },
    {
      "cell_type": "markdown",
      "source": [
        "## final"
      ],
      "metadata": {
        "id": "K9vhVBzjT568"
      }
    },
    {
      "cell_type": "code",
      "source": [
        "db=db.drop(['writers','directors','genres_x',],axis=1)"
      ],
      "metadata": {
        "id": "MhEexvuYHxN1"
      },
      "execution_count": null,
      "outputs": []
    },
    {
      "cell_type": "code",
      "source": [
        "db=db.drop(['language','adult','original_language','overview','production_companies',\n",
        "            'production_countries','release_date','status','tagline','video'],axis=1)"
      ],
      "metadata": {
        "id": "a6NXSbEO4p-9"
      },
      "execution_count": null,
      "outputs": []
    },
    {
      "cell_type": "markdown",
      "source": [
        "# **Missings**"
      ],
      "metadata": {
        "id": "srkKXtufbVmU"
      }
    },
    {
      "cell_type": "code",
      "source": [
        "db.isnull().sum()"
      ],
      "metadata": {
        "id": "EUX4Lr4_UMxR"
      },
      "execution_count": null,
      "outputs": []
    },
    {
      "cell_type": "code",
      "source": [
        "#sns.heatmap(db.isnull(), cbar=False)"
      ],
      "metadata": {
        "id": "hpjvwar0UMxR"
      },
      "execution_count": null,
      "outputs": []
    },
    {
      "cell_type": "markdown",
      "source": [
        "## SeasonNumber"
      ],
      "metadata": {
        "id": "3gQPbAyndmYa"
      }
    },
    {
      "cell_type": "code",
      "source": [
        "db['seasonNumber'].describe()"
      ],
      "metadata": {
        "id": "93Me2Q1xzjg9"
      },
      "execution_count": null,
      "outputs": []
    },
    {
      "cell_type": "code",
      "source": [
        "snumber_null=db.loc[db['seasonNumber'].isnull()==True]\n",
        "snumber_null.groupby(\"titleType\")[\"isAdult\"].count()"
      ],
      "metadata": {
        "id": "2HfyMGgtkRZB"
      },
      "execution_count": null,
      "outputs": []
    },
    {
      "cell_type": "markdown",
      "source": [
        "Como la mayoria son tipos que no tienen series, se los reemplaza con 0."
      ],
      "metadata": {
        "id": "qXps47dzkRZC"
      }
    },
    {
      "cell_type": "code",
      "source": [
        "db.loc[db[\"seasonNumber\"].isnull()==True, \"seasonNumber\"] = 0\n",
        "db.groupby('titleType')[\"isAdult\"].value_counts()"
      ],
      "metadata": {
        "id": "Dp0qAYI9kRZC"
      },
      "execution_count": null,
      "outputs": []
    },
    {
      "cell_type": "markdown",
      "source": [
        "## EpisodeNumber"
      ],
      "metadata": {
        "id": "44hMqBIMeU25"
      }
    },
    {
      "cell_type": "code",
      "source": [
        "epNumber_null= db.loc[db['episodeNumber'].isnull()==True]\n",
        "epNumber_null.groupby(\"titleType\")[\"isAdult\"].count()"
      ],
      "metadata": {
        "id": "jHJ3Mnh7iavR"
      },
      "execution_count": null,
      "outputs": []
    },
    {
      "cell_type": "code",
      "source": [
        "db['episodeNumber']=db['episodeNumber'].fillna(0)\n",
        "db['episodeNumber'].isnull().sum()"
      ],
      "metadata": {
        "id": "0oYYSWlsjzjS"
      },
      "execution_count": null,
      "outputs": []
    },
    {
      "cell_type": "markdown",
      "source": [
        "## isOriginalTitle"
      ],
      "metadata": {
        "id": "YY7ett_rSwcY"
      }
    },
    {
      "cell_type": "code",
      "source": [
        "db['isOriginalTitle'].value_counts()"
      ],
      "metadata": {
        "id": "v0mDJTAbkZEk"
      },
      "execution_count": null,
      "outputs": []
    },
    {
      "cell_type": "code",
      "source": [
        "db['isOriginalTitle']=db['isOriginalTitle'].fillna(0)"
      ],
      "metadata": {
        "id": "31lZJU8HlFkm"
      },
      "execution_count": null,
      "outputs": []
    },
    {
      "cell_type": "code",
      "source": [
        "sns.displot(db['isOriginalTitle'])"
      ],
      "metadata": {
        "id": "0WKHEdIe3UoN"
      },
      "execution_count": null,
      "outputs": []
    },
    {
      "cell_type": "markdown",
      "source": [
        "## Genres_x"
      ],
      "metadata": {
        "id": "7tpV0jpLuOWy"
      }
    },
    {
      "cell_type": "code",
      "source": [
        "db.loc[db[\"genres_x\"].isnull()==True, \"genres_x\"] = \"missing\""
      ],
      "metadata": {
        "id": "oUwPoLpOuSxB"
      },
      "execution_count": null,
      "outputs": []
    },
    {
      "cell_type": "markdown",
      "source": [
        "## Directors"
      ],
      "metadata": {
        "id": "tfp5RWZYuWRI"
      }
    },
    {
      "cell_type": "code",
      "source": [
        "db.loc[db[\"writers\"].isnull()==True, \"writers\"] = \"missing\""
      ],
      "metadata": {
        "id": "kUAXUMyzufI-"
      },
      "execution_count": null,
      "outputs": []
    },
    {
      "cell_type": "markdown",
      "source": [
        "## Writers"
      ],
      "metadata": {
        "id": "C9F6fZh3uYun"
      }
    },
    {
      "cell_type": "code",
      "source": [
        "db.loc[db[\"writers\"].isnull()==True, \"writers\"] = \"missing\""
      ],
      "metadata": {
        "id": "YjEO_hTTuiaU"
      },
      "execution_count": null,
      "outputs": []
    },
    {
      "cell_type": "markdown",
      "source": [
        "## Total"
      ],
      "metadata": {
        "id": "dyQbKQN7UEt9"
      }
    },
    {
      "cell_type": "code",
      "source": [
        "db.isnull().sum()"
      ],
      "metadata": {
        "id": "SnJV7q6YGptm"
      },
      "execution_count": null,
      "outputs": []
    },
    {
      "cell_type": "code",
      "source": [
        "#sns.heatmap(db.isnull(), cbar=False)"
      ],
      "metadata": {
        "id": "rHPsFAkvnM0b"
      },
      "execution_count": null,
      "outputs": []
    },
    {
      "cell_type": "markdown",
      "source": [
        "# **Outliers**"
      ],
      "metadata": {
        "id": "4YI2kEE8bhXr"
      }
    },
    {
      "cell_type": "markdown",
      "source": [
        "## NumVotes"
      ],
      "metadata": {
        "id": "RLWMBLtgbmVd"
      }
    },
    {
      "cell_type": "code",
      "source": [
        "db['numVotes'].describe()"
      ],
      "metadata": {
        "id": "tujWXkZhiGKo"
      },
      "execution_count": null,
      "outputs": []
    },
    {
      "cell_type": "code",
      "source": [
        "plt.boxplot(db['numVotes'])\n",
        "plt.show()"
      ],
      "metadata": {
        "id": "IORRz5uRdhZj"
      },
      "execution_count": null,
      "outputs": []
    },
    {
      "cell_type": "code",
      "source": [
        "db[db['numVotes']>150].count()\n",
        "#db=db[db.numVotes <150]"
      ],
      "metadata": {
        "id": "Ryvx1JQss5gE"
      },
      "execution_count": null,
      "outputs": []
    },
    {
      "cell_type": "markdown",
      "source": [
        "## StartYear"
      ],
      "metadata": {
        "id": "il_N-0qscucr"
      }
    },
    {
      "cell_type": "code",
      "source": [
        "db['startYear'].describe()"
      ],
      "metadata": {
        "id": "p6u8IBS-fk7C"
      },
      "execution_count": null,
      "outputs": []
    },
    {
      "cell_type": "code",
      "source": [
        "sns.displot(db,x='startYear')"
      ],
      "metadata": {
        "id": "WGmLgU6MfXLJ"
      },
      "execution_count": null,
      "outputs": []
    },
    {
      "cell_type": "code",
      "source": [
        "db = db[db.startYear > 1000]\n",
        "sns.displot(db,x='startYear')"
      ],
      "metadata": {
        "id": "DIHSQMh-gGk9"
      },
      "execution_count": null,
      "outputs": []
    },
    {
      "cell_type": "markdown",
      "source": [
        "## RuntimeMinutes"
      ],
      "metadata": {
        "id": "nFKNB-zPdWdR"
      }
    },
    {
      "cell_type": "code",
      "source": [
        "db['runtimeMinutes'].describe()"
      ],
      "metadata": {
        "id": "PrjWqP56htrh"
      },
      "execution_count": null,
      "outputs": []
    },
    {
      "cell_type": "code",
      "source": [
        "db=db[db.runtimeMinutes >= 0]\n",
        "#db=db[db.runtimeMinutes <=250]"
      ],
      "metadata": {
        "id": "WBUcxvlch7S-"
      },
      "execution_count": null,
      "outputs": []
    },
    {
      "cell_type": "code",
      "source": [
        "sns.displot(db['runtimeMinutes'])"
      ],
      "metadata": {
        "id": "pBxekb1cvRBm"
      },
      "execution_count": null,
      "outputs": []
    },
    {
      "cell_type": "code",
      "source": [
        "sns.boxplot(db['runtimeMinutes'])"
      ],
      "metadata": {
        "id": "KnGGQv_1iFPy"
      },
      "execution_count": null,
      "outputs": []
    },
    {
      "cell_type": "markdown",
      "source": [
        "## SeasonNumber"
      ],
      "metadata": {
        "id": "Kf1lFemTd0pi"
      }
    },
    {
      "cell_type": "code",
      "source": [
        "sns.boxplot(db['seasonNumber'])"
      ],
      "metadata": {
        "id": "KoWCY104kUgN"
      },
      "execution_count": null,
      "outputs": []
    },
    {
      "cell_type": "code",
      "source": [
        "db=db[db.seasonNumber<100]"
      ],
      "metadata": {
        "id": "LGusLyaszwbS"
      },
      "execution_count": null,
      "outputs": []
    },
    {
      "cell_type": "code",
      "source": [
        "sns.boxplot(db['seasonNumber'])"
      ],
      "metadata": {
        "id": "BQHU55Pjz1lV"
      },
      "execution_count": null,
      "outputs": []
    },
    {
      "cell_type": "markdown",
      "source": [
        "## EpisodeNumber"
      ],
      "metadata": {
        "id": "kC6wNZyveo4w"
      }
    },
    {
      "cell_type": "code",
      "source": [
        "sns.boxplot(db['episodeNumber'])"
      ],
      "metadata": {
        "id": "UKP8wBkYxT7c"
      },
      "execution_count": null,
      "outputs": []
    },
    {
      "cell_type": "code",
      "source": [
        "#db=db[db.episodeNumber<2000]"
      ],
      "metadata": {
        "id": "4xLAjg4xyRKL"
      },
      "execution_count": null,
      "outputs": []
    },
    {
      "cell_type": "code",
      "source": [
        "sns.boxplot(db['episodeNumber'])"
      ],
      "metadata": {
        "id": "IdMm4gpwex2o"
      },
      "execution_count": null,
      "outputs": []
    },
    {
      "cell_type": "markdown",
      "source": [
        "# **Duplicados**"
      ],
      "metadata": {
        "id": "5CdEfZ8_KMqv"
      }
    },
    {
      "cell_type": "code",
      "source": [
        "dup_db=db.duplicated().any()\n",
        "count_dup=db.duplicated().sum()\n",
        "print(\"Duplicados:\",dup_db,\" y son: \",count_dup)"
      ],
      "metadata": {
        "id": "ynEH6p41KMCK"
      },
      "execution_count": null,
      "outputs": []
    },
    {
      "cell_type": "code",
      "source": [
        "db=db.drop_duplicates(keep=\"first\")"
      ],
      "metadata": {
        "id": "GHJXNGKoKRnE"
      },
      "execution_count": null,
      "outputs": []
    },
    {
      "cell_type": "markdown",
      "source": [
        "# **Graficos**"
      ],
      "metadata": {
        "id": "ydzzwQpWa8zU"
      }
    },
    {
      "cell_type": "code",
      "source": [
        "db['titleType'].value_counts().plot(kind='bar', xlabel='numbers', ylabel='frequency')"
      ],
      "metadata": {
        "id": "cmST0ebKbw--"
      },
      "execution_count": null,
      "outputs": []
    },
    {
      "cell_type": "code",
      "source": [
        "sns.set(rc={'figure.figsize':(11.7,8.27)})\n",
        "sns.boxplot(x=\"titleType\", \n",
        "            y=\"averageRating\", \n",
        "            data=db)"
      ],
      "metadata": {
        "id": "Htr5MD3xbyjJ"
      },
      "execution_count": null,
      "outputs": []
    },
    {
      "cell_type": "code",
      "source": [
        "sns.boxplot(x=\"genero\", y=\"averageRating\", data=db)"
      ],
      "metadata": {
        "id": "nPXSTO_fbAT1"
      },
      "execution_count": null,
      "outputs": []
    },
    {
      "cell_type": "code",
      "source": [
        "sns.boxplot(x=\"directores\", y=\"averageRating\", data=db)"
      ],
      "metadata": {
        "id": "cQpkxjRCbD9i"
      },
      "execution_count": null,
      "outputs": []
    },
    {
      "cell_type": "code",
      "source": [
        "sns.boxplot(x=\"escritores\", y=\"averageRating\", data=db)"
      ],
      "metadata": {
        "id": "M2KZcE_WbGE_"
      },
      "execution_count": null,
      "outputs": []
    },
    {
      "cell_type": "markdown",
      "source": [
        "# **Dummies**"
      ],
      "metadata": {
        "id": "04o61_JsNVZZ"
      }
    },
    {
      "cell_type": "code",
      "source": [
        "db=db.join(pd.get_dummies(db['titleType']))"
      ],
      "metadata": {
        "id": "AwLRgeAg3_p9"
      },
      "execution_count": null,
      "outputs": []
    },
    {
      "cell_type": "code",
      "source": [
        "db=db.drop(['titleType'],axis=1)"
      ],
      "metadata": {
        "id": "F7tIxOOmgPaj"
      },
      "execution_count": null,
      "outputs": []
    },
    {
      "cell_type": "markdown",
      "source": [
        "# **Correlaciones Finales**"
      ],
      "metadata": {
        "id": "Noq8y8l2_p2w"
      }
    },
    {
      "cell_type": "code",
      "source": [
        "fig,ax=plt.subplots(figsize=(15,15))\n",
        "sns.heatmap(db.corr(),annot=True)"
      ],
      "metadata": {
        "id": "OFuWn5LA_Yyi"
      },
      "execution_count": null,
      "outputs": []
    },
    {
      "cell_type": "markdown",
      "source": [
        "# **Separacion de Datos**"
      ],
      "metadata": {
        "id": "zyq7jzrpclfH"
      }
    },
    {
      "cell_type": "code",
      "source": [
        "X = db.drop(columns=['averageRating'])\n",
        "y = db['averageRating']"
      ],
      "metadata": {
        "id": "beg3ow-ackxq"
      },
      "execution_count": null,
      "outputs": []
    },
    {
      "cell_type": "code",
      "source": [
        "X_train, X_val, y_train, y_val = train_test_split(X, y, test_size=0.25, random_state=33)"
      ],
      "metadata": {
        "id": "jepULXMVcqf9"
      },
      "execution_count": null,
      "outputs": []
    },
    {
      "cell_type": "code",
      "source": [
        "X.columns"
      ],
      "metadata": {
        "id": "mDm2OjHHC8VD"
      },
      "execution_count": null,
      "outputs": []
    },
    {
      "cell_type": "code",
      "source": [
        "X_train.shape"
      ],
      "metadata": {
        "id": "Mw8zxbomS0-x"
      },
      "execution_count": null,
      "outputs": []
    },
    {
      "cell_type": "code",
      "source": [
        "X_val.shape"
      ],
      "metadata": {
        "id": "UtRAzYlqS3-C"
      },
      "execution_count": null,
      "outputs": []
    },
    {
      "cell_type": "code",
      "source": [
        "#from sklearn.preprocessing import StandardScaler\n",
        "#sc_X = StandardScaler()\n",
        "#X_train = sc_X.fit_transform(X_train)\n",
        "#X_val = sc_X.transform(X_val)"
      ],
      "metadata": {
        "id": "SFvIKQ2FaXkq"
      },
      "execution_count": null,
      "outputs": []
    },
    {
      "cell_type": "markdown",
      "source": [
        "# **Modelos**"
      ],
      "metadata": {
        "id": "_MAJHX1_fgc6"
      }
    },
    {
      "cell_type": "markdown",
      "source": [
        "## **Regresion Lineal**"
      ],
      "metadata": {
        "id": "lR9JN6BCEopB"
      }
    },
    {
      "cell_type": "code",
      "source": [
        "reg = LinearRegression()"
      ],
      "metadata": {
        "id": "UDkynUs8EoE8"
      },
      "execution_count": null,
      "outputs": []
    },
    {
      "cell_type": "code",
      "source": [
        "reg.fit(X_train,y_train)"
      ],
      "metadata": {
        "id": "LDLLAXdgUZSv"
      },
      "execution_count": null,
      "outputs": []
    },
    {
      "cell_type": "code",
      "source": [
        "print(\"R2 score:\",reg.score(X_val,y_val))"
      ],
      "metadata": {
        "id": "pLUT8OoYUZnG"
      },
      "execution_count": null,
      "outputs": []
    },
    {
      "cell_type": "markdown",
      "source": [
        "## **Ridge Regression**"
      ],
      "metadata": {
        "id": "MaSm21iTYf0-"
      }
    },
    {
      "cell_type": "code",
      "source": [
        "ridge = Ridge(alpha=1.0)"
      ],
      "metadata": {
        "id": "GBQT966MYkDl"
      },
      "execution_count": null,
      "outputs": []
    },
    {
      "cell_type": "code",
      "source": [
        "ridge=ridge.fit(X_train, y_train)"
      ],
      "metadata": {
        "id": "OCg5CSvPY4fy"
      },
      "execution_count": null,
      "outputs": []
    },
    {
      "cell_type": "code",
      "source": [
        "print(\"R2 score:\",ridge.score(X_val,y_val))"
      ],
      "metadata": {
        "id": "KpK6bIZTY2z7"
      },
      "execution_count": null,
      "outputs": []
    },
    {
      "cell_type": "markdown",
      "source": [
        "## **Decision Tree Regressor**"
      ],
      "metadata": {
        "id": "pDIBaRB7EOg0"
      }
    },
    {
      "cell_type": "code",
      "source": [
        "regressor = DecisionTreeRegressor(random_state = 1, max_depth=2)  \n",
        "regressor.fit(X_train, y_train)"
      ],
      "metadata": {
        "id": "3gFZHp6WEULa"
      },
      "execution_count": null,
      "outputs": []
    },
    {
      "cell_type": "code",
      "source": [
        "print(\"R2 score:\",regressor.score(X_val, y_val))"
      ],
      "metadata": {
        "id": "h8S54onNEXiL"
      },
      "execution_count": null,
      "outputs": []
    },
    {
      "cell_type": "markdown",
      "source": [
        "## **RandomForest Regression**"
      ],
      "metadata": {
        "id": "AnFhpAC_ln5Z"
      }
    },
    {
      "cell_type": "code",
      "source": [
        "random = RandomForestRegressor(max_depth=10, n_estimators=300, max_features=1)\n",
        "random.fit(X_train, y_train)"
      ],
      "metadata": {
        "id": "hOieInhGlqyV"
      },
      "execution_count": null,
      "outputs": []
    },
    {
      "cell_type": "code",
      "source": [
        "print(\"R2 score:\",random.score(X_val,y_val))"
      ],
      "metadata": {
        "id": "_FDDffrQmDq5"
      },
      "execution_count": null,
      "outputs": []
    },
    {
      "cell_type": "code",
      "source": [
        "model = XGBRegressor()\n",
        "RFR = RandomForestRegressor(n_estimators = 12, random_state=1)\n",
        "rr = model.fit(X_train,y_train)\n",
        "rr.score(X_val, y_val)"
      ],
      "metadata": {
        "id": "NNUuP87_Xbi-"
      },
      "execution_count": null,
      "outputs": []
    },
    {
      "cell_type": "markdown",
      "source": [
        "## **XG Boost**"
      ],
      "metadata": {
        "id": "bcT1D7YRat9_"
      }
    },
    {
      "cell_type": "code",
      "source": [
        "XGB=XGBRegressor()"
      ],
      "metadata": {
        "id": "Bfh4o4jQdZHu"
      },
      "execution_count": null,
      "outputs": []
    },
    {
      "cell_type": "code",
      "source": [
        "XGB = XGB.fit(X_train,y_train)\n",
        "print(\"R2 score:\",XGB.score(X_val, y_val))"
      ],
      "metadata": {
        "id": "IsANc4t5dD6Q"
      },
      "execution_count": null,
      "outputs": []
    },
    {
      "cell_type": "markdown",
      "source": [
        "\n",
        "\n",
        "---\n",
        "\n"
      ],
      "metadata": {
        "id": "GvnfJW3lXepB"
      }
    },
    {
      "cell_type": "code",
      "source": [
        "XGB = XGBRegressor(colsample_bytree=0.7, gamma=0.2, leraning_rate=0.12, max_depth=10,\n",
        "             min_child_weight=7)"
      ],
      "metadata": {
        "id": "aTDhJ6gqV-MO"
      },
      "execution_count": null,
      "outputs": []
    },
    {
      "cell_type": "code",
      "source": [
        "XGB.fit(X_train,y_train)"
      ],
      "metadata": {
        "id": "pHhTVpTvV_Hp"
      },
      "execution_count": null,
      "outputs": []
    },
    {
      "cell_type": "code",
      "source": [
        "XGB.score(X_val,y_val)"
      ],
      "metadata": {
        "id": "8nIOW61zWLuw"
      },
      "execution_count": null,
      "outputs": []
    },
    {
      "cell_type": "markdown",
      "source": [
        "\n",
        "\n",
        "---\n",
        "\n"
      ],
      "metadata": {
        "id": "Xr0-yp3JdWKu"
      }
    },
    {
      "cell_type": "markdown",
      "source": [
        "**RandomSearch**"
      ],
      "metadata": {
        "id": "lES7-9EJX2sc"
      }
    },
    {
      "cell_type": "code",
      "source": [
        "xgbr=XGBRegressor()"
      ],
      "metadata": {
        "id": "g2EQCzXydePS"
      },
      "execution_count": null,
      "outputs": []
    },
    {
      "cell_type": "code",
      "source": [
        "params ={\n",
        "    \"leraning_rate\"    : [0.1,0.12,0.15,0.17,0.2,0.25],\n",
        "    \"max_depth\"        : [6,7,8,9,10,11],\n",
        "    \"min_child_weight\" : [1,3,5,7],\n",
        "    \"gamma\"            : [0.0, 0.1, 0.2, 0.3, 0.4],\n",
        "    \"colsample_bytree\" : [0.3, 0.4, 0.5, 0.7]\n",
        "}"
      ],
      "metadata": {
        "id": "ttVtxFT-dV8k"
      },
      "execution_count": null,
      "outputs": []
    },
    {
      "cell_type": "code",
      "source": [
        "random_search= RandomizedSearchCV(xgbr, param_distributions = params, n_iter = 5, n_jobs = -1, cv=5, verbose = 0)"
      ],
      "metadata": {
        "id": "w-CwqWd9dag-"
      },
      "execution_count": null,
      "outputs": []
    },
    {
      "cell_type": "code",
      "source": [
        "random_search.fit(X_train,y_train)"
      ],
      "metadata": {
        "id": "JAxpme58diUx"
      },
      "execution_count": null,
      "outputs": []
    },
    {
      "cell_type": "code",
      "source": [
        "random_search.best_estimator_"
      ],
      "metadata": {
        "id": "N1Fhg0AvmNYC"
      },
      "execution_count": null,
      "outputs": []
    },
    {
      "cell_type": "code",
      "source": [
        "XGB_modelo=XGBRegressor(colsample_bytree=0.7, gamma=0.3, leraning_rate=0.1, max_depth=11,\n",
        "             min_child_weight=7)"
      ],
      "metadata": {
        "id": "2tUgquhWwLkq"
      },
      "execution_count": null,
      "outputs": []
    },
    {
      "cell_type": "code",
      "source": [
        "XGB=XGB_modelo.fit(X_train,y_train)"
      ],
      "metadata": {
        "id": "pvCXSc6iwOSl"
      },
      "execution_count": null,
      "outputs": []
    },
    {
      "cell_type": "code",
      "source": [
        "XGB.score(X_val,y_val)"
      ],
      "metadata": {
        "id": "L2ctEgzSwbXU"
      },
      "execution_count": null,
      "outputs": []
    },
    {
      "cell_type": "markdown",
      "source": [
        "\n",
        "\n",
        "---\n",
        "\n"
      ],
      "metadata": {
        "id": "YRJtVKJKYe8z"
      }
    },
    {
      "cell_type": "code",
      "source": [
        "int=XGBRegressor(colsample_bytree=0.7, gamma=0.0, leraning_rate=0.1, max_depth=10,\n",
        "             min_child_weight=3)"
      ],
      "metadata": {
        "id": "a2Trn1RHYykd"
      },
      "execution_count": null,
      "outputs": []
    },
    {
      "cell_type": "code",
      "source": [
        "rer=int.fit(X_train,y_train)"
      ],
      "metadata": {
        "id": "MVHB5gFjY0g7"
      },
      "execution_count": null,
      "outputs": []
    },
    {
      "cell_type": "code",
      "source": [
        "rer.score(X_val,y_val)"
      ],
      "metadata": {
        "id": "X--qxfGiY7j1"
      },
      "execution_count": null,
      "outputs": []
    },
    {
      "cell_type": "markdown",
      "source": [
        "## **HistGradient Boosting Regressor**"
      ],
      "metadata": {
        "id": "f-KZxTkOZ_cn"
      }
    },
    {
      "cell_type": "code",
      "source": [
        "from sklearn.ensemble import HistGradientBoostingRegressor"
      ],
      "metadata": {
        "id": "AnjIDrqZYqH3"
      },
      "execution_count": null,
      "outputs": []
    },
    {
      "cell_type": "code",
      "source": [
        "HGBR=HistGradientBoostingRegressor()"
      ],
      "metadata": {
        "id": "Tv_HUMmUaIi_"
      },
      "execution_count": null,
      "outputs": []
    },
    {
      "cell_type": "code",
      "source": [
        "HGBR.fit(X_train,y_train)"
      ],
      "metadata": {
        "id": "Ik-XoSWLtX5E"
      },
      "execution_count": null,
      "outputs": []
    },
    {
      "cell_type": "code",
      "source": [
        "print(\"R2 score:\",HGBR.score(X_val,y_val))"
      ],
      "metadata": {
        "id": "nEfjMepltbvf"
      },
      "execution_count": null,
      "outputs": []
    },
    {
      "cell_type": "markdown",
      "source": [
        "\n",
        "\n",
        "---\n",
        "\n"
      ],
      "metadata": {
        "id": "G7yHwApSHcsn"
      }
    },
    {
      "cell_type": "code",
      "source": [
        "HGBR=HistGradientBoostingRegressor(max_bins=254,min_samples_leaf=20,max_leaf_nodes=254,max_iter=100,learning_rate=0.1,\n",
        "                                   verbose=0,l2_regularization=0)"
      ],
      "metadata": {
        "id": "lyLDDREztYKe"
      },
      "execution_count": null,
      "outputs": []
    },
    {
      "cell_type": "code",
      "source": [
        "HGBR.fit(X_train,y_train)"
      ],
      "metadata": {
        "id": "KuajSGkhtfzD"
      },
      "execution_count": null,
      "outputs": []
    },
    {
      "cell_type": "code",
      "source": [
        "HGBR.score(X_val,y_val)"
      ],
      "metadata": {
        "id": "XvYZXOonthhU"
      },
      "execution_count": null,
      "outputs": []
    },
    {
      "cell_type": "markdown",
      "source": [
        "## **Gradient Boosting**"
      ],
      "metadata": {
        "id": "e4UE6Sm6vdz1"
      }
    },
    {
      "cell_type": "code",
      "source": [
        "from sklearn.ensemble import GradientBoostingRegressor\n",
        "GBR = GradientBoostingRegressor().fit(X_train, y_train)"
      ],
      "metadata": {
        "id": "ms4FtneqLHLt"
      },
      "execution_count": null,
      "outputs": []
    },
    {
      "cell_type": "code",
      "source": [
        "print(\"R2 score:\",GBR.score(X_val,y_val))"
      ],
      "metadata": {
        "id": "ZIJkVfQKAphe"
      },
      "execution_count": null,
      "outputs": []
    },
    {
      "cell_type": "markdown",
      "source": [
        "##**LGBM** "
      ],
      "metadata": {
        "id": "0Dg1vz25x7Nb"
      }
    },
    {
      "cell_type": "code",
      "source": [
        "LGBM=lgb.LGBMRegressor()"
      ],
      "metadata": {
        "id": "p9s0UZw_yFVh"
      },
      "execution_count": null,
      "outputs": []
    },
    {
      "cell_type": "code",
      "source": [
        "LGBM.fit(X_train,y_train)"
      ],
      "metadata": {
        "id": "WxkD_xMwwjpM"
      },
      "execution_count": null,
      "outputs": []
    },
    {
      "cell_type": "code",
      "source": [
        "print(\"R2 score:\",LGBM.score(X_val,y_val))"
      ],
      "metadata": {
        "id": "QUtQQDiZwmat"
      },
      "execution_count": null,
      "outputs": []
    },
    {
      "cell_type": "markdown",
      "source": [
        "**Ajuste de Hiperparametros**"
      ],
      "metadata": {
        "id": "dpT97URpZCjG"
      }
    },
    {
      "cell_type": "code",
      "source": [
        "param_grid = {\n",
        "    'n_estimators': [400, 700, 1000],\n",
        "    'max_depth': [15,20,25],\n",
        "    'num_leaves': [50, 100, 200],\n",
        "    'reg_alpha': [1.1, 1.2, 1.3],\n",
        "    'reg_lambda': [1.1, 1.2, 1.3],\n",
        "    'min_split_gain': [0.3, 0.4],\n",
        "    'subsample': [0.7, 0.8, 0.9],\n",
        "    'subsample_freq': [20]\n",
        "}"
      ],
      "metadata": {
        "id": "PgrEwPnKdEmR"
      },
      "execution_count": null,
      "outputs": []
    },
    {
      "cell_type": "code",
      "source": [
        "random_search= RandomizedSearchCV(LGBM, param_distributions = param_grid, n_iter = 5, n_jobs = -1, cv=5, verbose = 0)"
      ],
      "metadata": {
        "id": "GX6SnZb5yMKx"
      },
      "execution_count": null,
      "outputs": []
    },
    {
      "cell_type": "code",
      "source": [
        "random_search.fit(X,y)"
      ],
      "metadata": {
        "id": "-32NGYRwyV05"
      },
      "execution_count": null,
      "outputs": []
    },
    {
      "cell_type": "code",
      "source": [
        "random_search.best_estimator_"
      ],
      "metadata": {
        "id": "cEeIXP-RyV06"
      },
      "execution_count": null,
      "outputs": []
    },
    {
      "cell_type": "code",
      "source": [
        "random_LGBM=lgb.LGBMRegressor(max_depth=25, min_split_gain=0.4,\n",
        "              n_estimators=1000, num_leaves=200, reg_alpha=1.3, reg_lambda=1.2,\n",
        "              subsample=0.7, subsample_freq=20)"
      ],
      "metadata": {
        "id": "X4xOHmvL4G1q"
      },
      "execution_count": null,
      "outputs": []
    },
    {
      "cell_type": "code",
      "source": [
        "modelo_LGBM=random_LGBM.fit(X_train,y_train)"
      ],
      "metadata": {
        "id": "ELyuwrql4TNo"
      },
      "execution_count": null,
      "outputs": []
    },
    {
      "cell_type": "code",
      "source": [
        "print(\"R2 score:\", modelo_LGBM.score(X_val,y_val))"
      ],
      "metadata": {
        "id": "WFk4MfsO4Weo"
      },
      "execution_count": null,
      "outputs": []
    },
    {
      "cell_type": "markdown",
      "source": [
        "## **Catboost**"
      ],
      "metadata": {
        "id": "rwkbHzhmDfRS"
      }
    },
    {
      "cell_type": "code",
      "source": [
        "! pip install catboost"
      ],
      "metadata": {
        "id": "LcWmpo1yDz2y"
      },
      "execution_count": null,
      "outputs": []
    },
    {
      "cell_type": "code",
      "source": [
        "import catboost as cb\n",
        "train_dataset = cb.Pool(X_train, y_train) \n",
        "test_dataset = cb.Pool(X_val, y_val)"
      ],
      "metadata": {
        "id": "i8eT3LTgDiDS"
      },
      "execution_count": null,
      "outputs": []
    },
    {
      "cell_type": "code",
      "source": [
        "model = cb.CatBoostRegressor(loss_function='RMSE')"
      ],
      "metadata": {
        "id": "FX8Ef6sLD5HI"
      },
      "execution_count": null,
      "outputs": []
    },
    {
      "cell_type": "code",
      "source": [
        "grid = {'iterations': [100, 150, 200],\n",
        "        'learning_rate': [0.03, 0.1],\n",
        "        'depth': [2, 4, 6, 8],\n",
        "        'l2_leaf_reg': [0.2, 0.5, 1, 3]}\n",
        "model.grid_search(grid, train_dataset)"
      ],
      "metadata": {
        "id": "xXlJFqvLD-IQ"
      },
      "execution_count": null,
      "outputs": []
    },
    {
      "cell_type": "code",
      "source": [
        "from sklearn.metrics import mean_squared_error\n",
        "from sklearn.metrics import r2_score\n",
        "pred = model.predict(X_val)\n",
        "rmse = (np.sqrt(mean_squared_error(y_val, pred)))\n",
        "r2 = r2_score(y_val, pred)\n",
        "print(\"Testing performance\")\n",
        "print('RMSE: {:.2f}'.format(rmse))\n",
        "print('R2: {:.2f}'.format(r2))"
      ],
      "metadata": {
        "id": "bGFDZyFDEALP"
      },
      "execution_count": null,
      "outputs": []
    },
    {
      "cell_type": "markdown",
      "source": [
        "# **SALIDA**"
      ],
      "metadata": {
        "id": "FW_5dfCUbxdW"
      }
    },
    {
      "cell_type": "markdown",
      "source": [
        "## **Carga de datos**"
      ],
      "metadata": {
        "id": "4PEhAUlEg5cJ"
      }
    },
    {
      "cell_type": "code",
      "source": [
        "test=pd.read_csv(\"testear.csv\", sep=\",\")"
      ],
      "metadata": {
        "id": "ePFyx104g89n"
      },
      "execution_count": null,
      "outputs": []
    },
    {
      "cell_type": "code",
      "source": [
        "test_t=pd.DataFrame()"
      ],
      "metadata": {
        "id": "T8LgpByHyo8E"
      },
      "execution_count": null,
      "outputs": []
    },
    {
      "cell_type": "code",
      "source": [
        "test_t=test"
      ],
      "metadata": {
        "id": "Eu8GVPxpg-OI"
      },
      "execution_count": null,
      "outputs": []
    },
    {
      "cell_type": "markdown",
      "source": [
        "## **Missings**"
      ],
      "metadata": {
        "id": "4Y2coCiZf4Z1"
      }
    },
    {
      "cell_type": "markdown",
      "source": [
        "### SeasonNumber"
      ],
      "metadata": {
        "id": "SXqtl-68f4Z1"
      }
    },
    {
      "cell_type": "code",
      "source": [
        "test_t.loc[test_t[\"seasonNumber\"].isnull()==True, \"seasonNumber\"] = 0"
      ],
      "metadata": {
        "id": "2QeANSIwf4Z2"
      },
      "execution_count": null,
      "outputs": []
    },
    {
      "cell_type": "markdown",
      "source": [
        "### EpisodeNumber"
      ],
      "metadata": {
        "id": "QPvamtwKf4Z2"
      }
    },
    {
      "cell_type": "code",
      "source": [
        "test_t['episodeNumber']=test_t['episodeNumber'].fillna(0)"
      ],
      "metadata": {
        "id": "ZR7IxAVVf4Z3"
      },
      "execution_count": null,
      "outputs": []
    },
    {
      "cell_type": "markdown",
      "source": [
        "### isOriginalTitle"
      ],
      "metadata": {
        "id": "587nbZfhf4Z3"
      }
    },
    {
      "cell_type": "code",
      "source": [
        "test_t['isOriginalTitle']=test_t['isOriginalTitle'].fillna(0)"
      ],
      "metadata": {
        "id": "g16cFvkef4Z3"
      },
      "execution_count": null,
      "outputs": []
    },
    {
      "cell_type": "markdown",
      "source": [
        "### Popularity"
      ],
      "metadata": {
        "id": "Z0mAf9aZs_y8"
      }
    },
    {
      "cell_type": "code",
      "source": [
        "test_t['popularity']=test_t['popularity'].fillna(0)"
      ],
      "metadata": {
        "id": "aIRH-WcctCrb"
      },
      "execution_count": null,
      "outputs": []
    },
    {
      "cell_type": "markdown",
      "source": [
        "### Genres_x"
      ],
      "metadata": {
        "id": "LdMfNtEOuqIw"
      }
    },
    {
      "cell_type": "code",
      "source": [
        "test_t.loc[test_t[\"genres_x\"].isnull()==True, \"genres_x\"] = \"missing\""
      ],
      "metadata": {
        "id": "imdzsp4nuqIw"
      },
      "execution_count": null,
      "outputs": []
    },
    {
      "cell_type": "markdown",
      "source": [
        "### Directors"
      ],
      "metadata": {
        "id": "sBi0wFsnuqIx"
      }
    },
    {
      "cell_type": "code",
      "source": [
        "test_t.loc[test_t[\"writers\"].isnull()==True, \"writers\"] = \"missing\""
      ],
      "metadata": {
        "id": "m1CDrpNauqIx"
      },
      "execution_count": null,
      "outputs": []
    },
    {
      "cell_type": "markdown",
      "source": [
        "### Writers"
      ],
      "metadata": {
        "id": "WAAKyD6CuqIx"
      }
    },
    {
      "cell_type": "code",
      "source": [
        "test_t.loc[test_t[\"writers\"].isnull()==True, \"writers\"] = \"missing\""
      ],
      "metadata": {
        "id": "Fg6AD376uqIx"
      },
      "execution_count": null,
      "outputs": []
    },
    {
      "cell_type": "markdown",
      "source": [
        "## **Variables numericas**"
      ],
      "metadata": {
        "id": "8fyBVKNRf4Zn"
      }
    },
    {
      "cell_type": "markdown",
      "source": [
        "### Id,Budget y Revenue"
      ],
      "metadata": {
        "id": "UPe9S70Df4Zo"
      }
    },
    {
      "cell_type": "code",
      "source": [
        "test_t=test_t.drop(['Id','revenue','budget'],axis=1)"
      ],
      "metadata": {
        "id": "7huxGlUff4Zo"
      },
      "execution_count": null,
      "outputs": []
    },
    {
      "cell_type": "markdown",
      "source": [
        "### isAdult,isOriginalTitle,seasonNumber,episodeNumber"
      ],
      "metadata": {
        "id": "K_VKK3Ljf4Zp"
      }
    },
    {
      "cell_type": "code",
      "source": [
        "test_t = test_t.astype({'isAdult':'int64', 'isOriginalTitle':'int64','seasonNumber':'int64','episodeNumber':'int64'})"
      ],
      "metadata": {
        "id": "BiEq35pLf4Zp"
      },
      "execution_count": null,
      "outputs": []
    },
    {
      "cell_type": "markdown",
      "source": [
        "###RuntimeMinutes vs Runtime"
      ],
      "metadata": {
        "id": "ZpqrdT_yf4Zs"
      }
    },
    {
      "cell_type": "code",
      "source": [
        "test_t=test_t.drop(['runtime'],axis=1)"
      ],
      "metadata": {
        "id": "zqHmeutyf4Zs"
      },
      "execution_count": null,
      "outputs": []
    },
    {
      "cell_type": "markdown",
      "source": [
        "### Ordering"
      ],
      "metadata": {
        "id": "_k4iYaaJf4Zt"
      }
    },
    {
      "cell_type": "code",
      "source": [
        "test_t=test_t.drop(['ordering'],axis=1)"
      ],
      "metadata": {
        "id": "CGr1wiI0f4Zt"
      },
      "execution_count": null,
      "outputs": []
    },
    {
      "cell_type": "markdown",
      "source": [
        "## **Variables Categoricas**"
      ],
      "metadata": {
        "id": "7dXZDvBif4Zu"
      }
    },
    {
      "cell_type": "markdown",
      "source": [
        "### Attributes"
      ],
      "metadata": {
        "id": "c7q0XWaof4Zu"
      }
    },
    {
      "cell_type": "code",
      "source": [
        "test_t=test_t.drop(['attributes'],axis=1)"
      ],
      "metadata": {
        "id": "-uw_68uJf4Zv"
      },
      "execution_count": null,
      "outputs": []
    },
    {
      "cell_type": "markdown",
      "source": [
        "### Genres"
      ],
      "metadata": {
        "id": "rfMaXjFZf4Zv"
      }
    },
    {
      "cell_type": "code",
      "source": [
        "test_t=test_t.drop(['genres_y'],axis=1)"
      ],
      "metadata": {
        "id": "qsvpRZC0h5Ll"
      },
      "execution_count": null,
      "outputs": []
    },
    {
      "cell_type": "markdown",
      "source": [
        "### Genres_x"
      ],
      "metadata": {
        "id": "zS63P80Gf4Zw"
      }
    },
    {
      "cell_type": "code",
      "source": [
        "df=[]\n",
        "def func(a, b):\n",
        "    return not set(a).isdisjoint(b)\n",
        "for i in test_t['genres_x']:\n",
        "  x = i.split(\",\")\n",
        "  respuesta=func(x,top_5_generos)\n",
        "  df.append(respuesta)\n",
        "test_t.insert(8,'genero',df)"
      ],
      "metadata": {
        "id": "LR2RzavPf4Zw"
      },
      "execution_count": null,
      "outputs": []
    },
    {
      "cell_type": "markdown",
      "source": [
        "### Directors"
      ],
      "metadata": {
        "id": "WJC_DJICf4Zx"
      }
    },
    {
      "cell_type": "code",
      "source": [
        "df=[]\n",
        "def func(a, b):\n",
        "    return not set(a).isdisjoint(b)\n",
        "for i in test_t['directors']:\n",
        "  x = i.split(\",\")\n",
        "  respuesta=func(x,top20_directores)\n",
        "  df.append(respuesta)\n",
        "test_t.insert(10,'directores',df)"
      ],
      "metadata": {
        "id": "UOgv9b7Xf4Zx"
      },
      "execution_count": null,
      "outputs": []
    },
    {
      "cell_type": "markdown",
      "source": [
        "### Writers"
      ],
      "metadata": {
        "id": "S8ZccUkpf4Zy"
      }
    },
    {
      "cell_type": "code",
      "source": [
        "df=[]\n",
        "def func(a, b):\n",
        "    return not set(a).isdisjoint(b)\n",
        "for i in test_t['writers']:\n",
        "  x = i.split(\",\")\n",
        "  respuesta=func(x,top10_escritores)\n",
        "  df.append(respuesta)\n",
        "test_t.insert(11,'escritores',df)"
      ],
      "metadata": {
        "id": "vWGHTxHDf4Zy"
      },
      "execution_count": null,
      "outputs": []
    },
    {
      "cell_type": "markdown",
      "source": [
        "### final"
      ],
      "metadata": {
        "id": "A1N6q_Jkf4Zz"
      }
    },
    {
      "cell_type": "code",
      "source": [
        "test_t=test_t = test_t.astype({'genero':'int64', 'directores':'int64','escritores':'int64'})"
      ],
      "metadata": {
        "id": "BJLzq7BC2j-H"
      },
      "execution_count": null,
      "outputs": []
    },
    {
      "cell_type": "code",
      "source": [
        "test_t=test_t.drop(['writers','directors','genres_x',],axis=1)"
      ],
      "metadata": {
        "id": "zYsz5iKpf4Zz"
      },
      "execution_count": null,
      "outputs": []
    },
    {
      "cell_type": "code",
      "source": [
        "test_t=test_t.drop(['language','adult','original_language','overview','production_companies',\n",
        "            'production_countries','release_date','status','tagline','video'],axis=1)"
      ],
      "metadata": {
        "id": "sRA7lTLbf4Z1"
      },
      "execution_count": null,
      "outputs": []
    },
    {
      "cell_type": "markdown",
      "source": [
        "## **Dummies**"
      ],
      "metadata": {
        "id": "RcYZo97if4Z5"
      }
    },
    {
      "cell_type": "code",
      "source": [
        "test_t=test_t.join(pd.get_dummies(test_t['titleType']))"
      ],
      "metadata": {
        "id": "9z2K7fxlf4Z5"
      },
      "execution_count": null,
      "outputs": []
    },
    {
      "cell_type": "code",
      "source": [
        "test_t=test_t.drop(['titleType'],axis=1)"
      ],
      "metadata": {
        "id": "817Y3_mCf4Z5"
      },
      "execution_count": null,
      "outputs": []
    },
    {
      "cell_type": "markdown",
      "source": [
        "## **Final**"
      ],
      "metadata": {
        "id": "Mqqv-7BfGjYc"
      }
    },
    {
      "cell_type": "code",
      "source": [
        "test_t.head(10)"
      ],
      "metadata": {
        "id": "yfUvTz4BAAqY"
      },
      "execution_count": null,
      "outputs": []
    },
    {
      "cell_type": "code",
      "source": [
        "resultado=modelo_LGBM.predict(test_t)"
      ],
      "metadata": {
        "id": "ZwaliisfgzTd"
      },
      "execution_count": null,
      "outputs": []
    },
    {
      "cell_type": "code",
      "source": [
        "salida = pd.DataFrame(data={\"averageRating\": resultado}).astype(str)\n",
        "salida.index = test.Id\n",
        "salida.to_csv(\"LGBM.csv\", sep=',',index=True,  index_label='Id')"
      ],
      "metadata": {
        "id": "KItDeMY_gzTd"
      },
      "execution_count": null,
      "outputs": []
    }
  ]
}